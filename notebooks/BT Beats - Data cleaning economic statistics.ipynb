{
 "cells": [
  {
   "cell_type": "markdown",
   "metadata": {},
   "source": [
    "# Data cleaning"
   ]
  },
  {
   "cell_type": "code",
   "execution_count": 92,
   "metadata": {},
   "outputs": [],
   "source": [
    "#import libraries\n",
    "\n",
    "import numpy as np\n",
    "import pandas as pd\n",
    "import matplotlib.pyplot as plt\n",
    "import seaborn as sns"
   ]
  },
  {
   "cell_type": "markdown",
   "metadata": {},
   "source": [
    "## Economic data"
   ]
  },
  {
   "cell_type": "markdown",
   "metadata": {},
   "source": [
    "Economic data has been downloaded from the Singapore government's [statistics website](https://www.singstat.gov.sg/find-data/search-by-theme?type=all). Let's prepare the data for comparison to the BT articles' sentiment score later."
   ]
  },
  {
   "cell_type": "markdown",
   "metadata": {},
   "source": [
    "### GDP growth"
   ]
  },
  {
   "cell_type": "markdown",
   "metadata": {},
   "source": [
    "GDP growth is the most common economic indicator and comes in quarterly form. "
   ]
  },
  {
   "cell_type": "code",
   "execution_count": 2,
   "metadata": {},
   "outputs": [
    {
     "data": {
      "text/html": [
       "<div>\n",
       "<style scoped>\n",
       "    .dataframe tbody tr th:only-of-type {\n",
       "        vertical-align: middle;\n",
       "    }\n",
       "\n",
       "    .dataframe tbody tr th {\n",
       "        vertical-align: top;\n",
       "    }\n",
       "\n",
       "    .dataframe thead th {\n",
       "        text-align: right;\n",
       "    }\n",
       "</style>\n",
       "<table border=\"1\" class=\"dataframe\">\n",
       "  <thead>\n",
       "    <tr style=\"text-align: right;\">\n",
       "      <th></th>\n",
       "      <th>1976 1Q</th>\n",
       "      <th>1976 2Q</th>\n",
       "      <th>1976 3Q</th>\n",
       "      <th>1976 4Q</th>\n",
       "      <th>1977 1Q</th>\n",
       "      <th>1977 2Q</th>\n",
       "      <th>1977 3Q</th>\n",
       "      <th>1977 4Q</th>\n",
       "      <th>1978 1Q</th>\n",
       "      <th>1978 2Q</th>\n",
       "      <th>...</th>\n",
       "      <th>2017 1Q</th>\n",
       "      <th>2017 2Q</th>\n",
       "      <th>2017 3Q</th>\n",
       "      <th>2017 4Q</th>\n",
       "      <th>2018 1Q</th>\n",
       "      <th>2018 2Q</th>\n",
       "      <th>2018 3Q</th>\n",
       "      <th>2018 4Q</th>\n",
       "      <th>2019 1Q</th>\n",
       "      <th>2019 2Q</th>\n",
       "    </tr>\n",
       "  </thead>\n",
       "  <tbody>\n",
       "    <tr>\n",
       "      <th>0</th>\n",
       "      <td>8.2</td>\n",
       "      <td>7.4</td>\n",
       "      <td>7.2</td>\n",
       "      <td>7.0</td>\n",
       "      <td>6.2</td>\n",
       "      <td>7.6</td>\n",
       "      <td>6.4</td>\n",
       "      <td>7.2</td>\n",
       "      <td>5.6</td>\n",
       "      <td>6.2</td>\n",
       "      <td>...</td>\n",
       "      <td>3.7</td>\n",
       "      <td>3.0</td>\n",
       "      <td>4.6</td>\n",
       "      <td>3.6</td>\n",
       "      <td>4.6</td>\n",
       "      <td>4.2</td>\n",
       "      <td>2.6</td>\n",
       "      <td>1.3</td>\n",
       "      <td>1.1</td>\n",
       "      <td>0.1</td>\n",
       "    </tr>\n",
       "  </tbody>\n",
       "</table>\n",
       "<p>1 rows × 174 columns</p>\n",
       "</div>"
      ],
      "text/plain": [
       "   1976 1Q  1976 2Q  1976 3Q  1976 4Q  1977 1Q  1977 2Q  1977 3Q  1977 4Q  \\\n",
       "0      8.2      7.4      7.2      7.0      6.2      7.6      6.4      7.2   \n",
       "\n",
       "   1978 1Q  1978 2Q  ...  2017 1Q  2017 2Q  2017 3Q  2017 4Q  2018 1Q  \\\n",
       "0      5.6      6.2  ...      3.7      3.0      4.6      3.6      4.6   \n",
       "\n",
       "   2018 2Q  2018 3Q  2018 4Q  2019 1Q  2019 2Q  \n",
       "0      4.2      2.6      1.3      1.1      0.1  \n",
       "\n",
       "[1 rows x 174 columns]"
      ]
     },
     "execution_count": 2,
     "metadata": {},
     "output_type": "execute_result"
    }
   ],
   "source": [
    "gdp_df = pd.read_csv('../datasets/economic-data/gdp.csv')\n",
    "gdp_df"
   ]
  },
  {
   "cell_type": "code",
   "execution_count": 3,
   "metadata": {},
   "outputs": [
    {
     "data": {
      "text/html": [
       "<div>\n",
       "<style scoped>\n",
       "    .dataframe tbody tr th:only-of-type {\n",
       "        vertical-align: middle;\n",
       "    }\n",
       "\n",
       "    .dataframe tbody tr th {\n",
       "        vertical-align: top;\n",
       "    }\n",
       "\n",
       "    .dataframe thead th {\n",
       "        text-align: right;\n",
       "    }\n",
       "</style>\n",
       "<table border=\"1\" class=\"dataframe\">\n",
       "  <thead>\n",
       "    <tr style=\"text-align: right;\">\n",
       "      <th></th>\n",
       "      <th>gdp_growth</th>\n",
       "    </tr>\n",
       "  </thead>\n",
       "  <tbody>\n",
       "    <tr>\n",
       "      <th>1976 1Q</th>\n",
       "      <td>8.2</td>\n",
       "    </tr>\n",
       "    <tr>\n",
       "      <th>1976 2Q</th>\n",
       "      <td>7.4</td>\n",
       "    </tr>\n",
       "    <tr>\n",
       "      <th>1976 3Q</th>\n",
       "      <td>7.2</td>\n",
       "    </tr>\n",
       "    <tr>\n",
       "      <th>1976 4Q</th>\n",
       "      <td>7.0</td>\n",
       "    </tr>\n",
       "    <tr>\n",
       "      <th>1977 1Q</th>\n",
       "      <td>6.2</td>\n",
       "    </tr>\n",
       "  </tbody>\n",
       "</table>\n",
       "</div>"
      ],
      "text/plain": [
       "         gdp_growth\n",
       "1976 1Q         8.2\n",
       "1976 2Q         7.4\n",
       "1976 3Q         7.2\n",
       "1976 4Q         7.0\n",
       "1977 1Q         6.2"
      ]
     },
     "execution_count": 3,
     "metadata": {},
     "output_type": "execute_result"
    }
   ],
   "source": [
    "gdp_df = gdp_df.T #transpose to make time periods rows\n",
    "gdp_df.rename(columns={0: \"gdp_growth\"}, inplace=True) #name the value column as gdp growth\n",
    "gdp_df.head()"
   ]
  },
  {
   "cell_type": "markdown",
   "metadata": {},
   "source": [
    "Since we have BT article from 2014 to August 2019, we can keep just the same corresponding periods of GDP for comparison."
   ]
  },
  {
   "cell_type": "code",
   "execution_count": 4,
   "metadata": {},
   "outputs": [
    {
     "data": {
      "text/html": [
       "<div>\n",
       "<style scoped>\n",
       "    .dataframe tbody tr th:only-of-type {\n",
       "        vertical-align: middle;\n",
       "    }\n",
       "\n",
       "    .dataframe tbody tr th {\n",
       "        vertical-align: top;\n",
       "    }\n",
       "\n",
       "    .dataframe thead th {\n",
       "        text-align: right;\n",
       "    }\n",
       "</style>\n",
       "<table border=\"1\" class=\"dataframe\">\n",
       "  <thead>\n",
       "    <tr style=\"text-align: right;\">\n",
       "      <th></th>\n",
       "      <th>gdp_growth</th>\n",
       "    </tr>\n",
       "  </thead>\n",
       "  <tbody>\n",
       "    <tr>\n",
       "      <th>2014Q1</th>\n",
       "      <td>4.3</td>\n",
       "    </tr>\n",
       "    <tr>\n",
       "      <th>2014Q2</th>\n",
       "      <td>3.3</td>\n",
       "    </tr>\n",
       "    <tr>\n",
       "      <th>2014Q3</th>\n",
       "      <td>3.6</td>\n",
       "    </tr>\n",
       "    <tr>\n",
       "      <th>2014Q4</th>\n",
       "      <td>4.4</td>\n",
       "    </tr>\n",
       "    <tr>\n",
       "      <th>2015Q1</th>\n",
       "      <td>2.9</td>\n",
       "    </tr>\n",
       "  </tbody>\n",
       "</table>\n",
       "</div>"
      ],
      "text/plain": [
       "        gdp_growth\n",
       "2014Q1         4.3\n",
       "2014Q2         3.3\n",
       "2014Q3         3.6\n",
       "2014Q4         4.4\n",
       "2015Q1         2.9"
      ]
     },
     "execution_count": 4,
     "metadata": {},
     "output_type": "execute_result"
    }
   ],
   "source": [
    "gdp_df = gdp_df.loc['2014 1Q':, :] #save rows from 2014 1Q onwards\n",
    "#reformat quarters through slicing so they can be read by to_datetime\n",
    "gdp_df.index = [period.split(' ')[0] + 'Q' + period.split(' ')[1][0] for period in gdp_df.index]\n",
    "gdp_df.head()"
   ]
  },
  {
   "cell_type": "code",
   "execution_count": 5,
   "metadata": {},
   "outputs": [
    {
     "name": "stdout",
     "output_type": "stream",
     "text": [
      "period[Q-DEC]\n"
     ]
    },
    {
     "data": {
      "text/html": [
       "<div>\n",
       "<style scoped>\n",
       "    .dataframe tbody tr th:only-of-type {\n",
       "        vertical-align: middle;\n",
       "    }\n",
       "\n",
       "    .dataframe tbody tr th {\n",
       "        vertical-align: top;\n",
       "    }\n",
       "\n",
       "    .dataframe thead th {\n",
       "        text-align: right;\n",
       "    }\n",
       "</style>\n",
       "<table border=\"1\" class=\"dataframe\">\n",
       "  <thead>\n",
       "    <tr style=\"text-align: right;\">\n",
       "      <th></th>\n",
       "      <th>gdp_growth</th>\n",
       "      <th>date</th>\n",
       "    </tr>\n",
       "  </thead>\n",
       "  <tbody>\n",
       "    <tr>\n",
       "      <th>0</th>\n",
       "      <td>4.3</td>\n",
       "      <td>2014Q1</td>\n",
       "    </tr>\n",
       "    <tr>\n",
       "      <th>1</th>\n",
       "      <td>3.3</td>\n",
       "      <td>2014Q2</td>\n",
       "    </tr>\n",
       "    <tr>\n",
       "      <th>2</th>\n",
       "      <td>3.6</td>\n",
       "      <td>2014Q3</td>\n",
       "    </tr>\n",
       "    <tr>\n",
       "      <th>3</th>\n",
       "      <td>4.4</td>\n",
       "      <td>2014Q4</td>\n",
       "    </tr>\n",
       "    <tr>\n",
       "      <th>4</th>\n",
       "      <td>2.9</td>\n",
       "      <td>2015Q1</td>\n",
       "    </tr>\n",
       "  </tbody>\n",
       "</table>\n",
       "</div>"
      ],
      "text/plain": [
       "   gdp_growth    date\n",
       "0         4.3  2014Q1\n",
       "1         3.3  2014Q2\n",
       "2         3.6  2014Q3\n",
       "3         4.4  2014Q4\n",
       "4         2.9  2015Q1"
      ]
     },
     "execution_count": 5,
     "metadata": {},
     "output_type": "execute_result"
    }
   ],
   "source": [
    "gdp_df['date'] = gdp_df.index #create new column for date\n",
    "gdp_df['date'] = pd.to_datetime(gdp_df['date']).dt.to_period('Q') #convert to datetime\n",
    "gdp_df.reset_index(inplace=True) #take date out of index\n",
    "gdp_df.drop('index', axis=1, inplace=True) #when reset_index is done, new columnd called 'index' is formed. drop this\n",
    "print(gdp_df['date'].dtype) #check time conversion is done \n",
    "gdp_df.head()"
   ]
  },
  {
   "cell_type": "markdown",
   "metadata": {},
   "source": [
    "### Composite leading index"
   ]
  },
  {
   "cell_type": "markdown",
   "metadata": {},
   "source": [
    "> The composite leading index is compiled by the Singapore Department of Statistics. It is used to anticipate the turning points of growth cycles or fluctuations in the economy's growth rate. - [singstat.gov.sg](https://www.singstat.gov.sg/find-data/search-by-theme/economy/leading-indicators/latest-data)"
   ]
  },
  {
   "cell_type": "code",
   "execution_count": 20,
   "metadata": {},
   "outputs": [
    {
     "data": {
      "text/html": [
       "<div>\n",
       "<style scoped>\n",
       "    .dataframe tbody tr th:only-of-type {\n",
       "        vertical-align: middle;\n",
       "    }\n",
       "\n",
       "    .dataframe tbody tr th {\n",
       "        vertical-align: top;\n",
       "    }\n",
       "\n",
       "    .dataframe thead th {\n",
       "        text-align: right;\n",
       "    }\n",
       "</style>\n",
       "<table border=\"1\" class=\"dataframe\">\n",
       "  <thead>\n",
       "    <tr style=\"text-align: right;\">\n",
       "      <th></th>\n",
       "      <th>1979 1Q</th>\n",
       "      <th>1979 2Q</th>\n",
       "      <th>1979 3Q</th>\n",
       "      <th>1979 4Q</th>\n",
       "      <th>1980 1Q</th>\n",
       "      <th>1980 2Q</th>\n",
       "      <th>1980 3Q</th>\n",
       "      <th>1980 4Q</th>\n",
       "      <th>1981 1Q</th>\n",
       "      <th>1981 2Q</th>\n",
       "      <th>...</th>\n",
       "      <th>2017 1Q</th>\n",
       "      <th>2017 2Q</th>\n",
       "      <th>2017 3Q</th>\n",
       "      <th>2017 4Q</th>\n",
       "      <th>2018 1Q</th>\n",
       "      <th>2018 2Q</th>\n",
       "      <th>2018 3Q</th>\n",
       "      <th>2018 4Q</th>\n",
       "      <th>2019 1Q</th>\n",
       "      <th>2019 2Q</th>\n",
       "    </tr>\n",
       "  </thead>\n",
       "  <tbody>\n",
       "    <tr>\n",
       "      <th>0</th>\n",
       "      <td>8.9</td>\n",
       "      <td>4.1</td>\n",
       "      <td>0.8</td>\n",
       "      <td>6.9</td>\n",
       "      <td>5.4</td>\n",
       "      <td>4.7</td>\n",
       "      <td>11.8</td>\n",
       "      <td>12.9</td>\n",
       "      <td>13.3</td>\n",
       "      <td>20.7</td>\n",
       "      <td>...</td>\n",
       "      <td>7.3</td>\n",
       "      <td>5.7</td>\n",
       "      <td>6.4</td>\n",
       "      <td>7.4</td>\n",
       "      <td>3.7</td>\n",
       "      <td>3.5</td>\n",
       "      <td>1.5</td>\n",
       "      <td>-0.6</td>\n",
       "      <td>-0.3</td>\n",
       "      <td>-1.3</td>\n",
       "    </tr>\n",
       "  </tbody>\n",
       "</table>\n",
       "<p>1 rows × 162 columns</p>\n",
       "</div>"
      ],
      "text/plain": [
       "   1979 1Q  1979 2Q  1979 3Q  1979 4Q  1980 1Q  1980 2Q  1980 3Q  1980 4Q  \\\n",
       "0      8.9      4.1      0.8      6.9      5.4      4.7     11.8     12.9   \n",
       "\n",
       "   1981 1Q  1981 2Q  ...  2017 1Q  2017 2Q  2017 3Q  2017 4Q  2018 1Q  \\\n",
       "0     13.3     20.7  ...      7.3      5.7      6.4      7.4      3.7   \n",
       "\n",
       "   2018 2Q  2018 3Q  2018 4Q  2019 1Q  2019 2Q  \n",
       "0      3.5      1.5     -0.6     -0.3     -1.3  \n",
       "\n",
       "[1 rows x 162 columns]"
      ]
     },
     "execution_count": 20,
     "metadata": {},
     "output_type": "execute_result"
    }
   ],
   "source": [
    "comp_df = pd.read_csv('../datasets/economic-data/composite.csv')\n",
    "comp_df"
   ]
  },
  {
   "cell_type": "code",
   "execution_count": 21,
   "metadata": {
    "scrolled": true
   },
   "outputs": [
    {
     "data": {
      "text/html": [
       "<div>\n",
       "<style scoped>\n",
       "    .dataframe tbody tr th:only-of-type {\n",
       "        vertical-align: middle;\n",
       "    }\n",
       "\n",
       "    .dataframe tbody tr th {\n",
       "        vertical-align: top;\n",
       "    }\n",
       "\n",
       "    .dataframe thead th {\n",
       "        text-align: right;\n",
       "    }\n",
       "</style>\n",
       "<table border=\"1\" class=\"dataframe\">\n",
       "  <thead>\n",
       "    <tr style=\"text-align: right;\">\n",
       "      <th></th>\n",
       "      <th>composite</th>\n",
       "    </tr>\n",
       "  </thead>\n",
       "  <tbody>\n",
       "    <tr>\n",
       "      <th>1979 1Q</th>\n",
       "      <td>8.9</td>\n",
       "    </tr>\n",
       "    <tr>\n",
       "      <th>1979 2Q</th>\n",
       "      <td>4.1</td>\n",
       "    </tr>\n",
       "    <tr>\n",
       "      <th>1979 3Q</th>\n",
       "      <td>0.8</td>\n",
       "    </tr>\n",
       "    <tr>\n",
       "      <th>1979 4Q</th>\n",
       "      <td>6.9</td>\n",
       "    </tr>\n",
       "    <tr>\n",
       "      <th>1980 1Q</th>\n",
       "      <td>5.4</td>\n",
       "    </tr>\n",
       "  </tbody>\n",
       "</table>\n",
       "</div>"
      ],
      "text/plain": [
       "         composite\n",
       "1979 1Q        8.9\n",
       "1979 2Q        4.1\n",
       "1979 3Q        0.8\n",
       "1979 4Q        6.9\n",
       "1980 1Q        5.4"
      ]
     },
     "execution_count": 21,
     "metadata": {},
     "output_type": "execute_result"
    }
   ],
   "source": [
    "comp_df = comp_df.T #transpose to make time periods rows\n",
    "comp_df.rename(columns={0: \"composite\"}, inplace=True) #name the value column as composite\n",
    "comp_df.head()"
   ]
  },
  {
   "cell_type": "code",
   "execution_count": 22,
   "metadata": {},
   "outputs": [
    {
     "data": {
      "text/html": [
       "<div>\n",
       "<style scoped>\n",
       "    .dataframe tbody tr th:only-of-type {\n",
       "        vertical-align: middle;\n",
       "    }\n",
       "\n",
       "    .dataframe tbody tr th {\n",
       "        vertical-align: top;\n",
       "    }\n",
       "\n",
       "    .dataframe thead th {\n",
       "        text-align: right;\n",
       "    }\n",
       "</style>\n",
       "<table border=\"1\" class=\"dataframe\">\n",
       "  <thead>\n",
       "    <tr style=\"text-align: right;\">\n",
       "      <th></th>\n",
       "      <th>composite</th>\n",
       "    </tr>\n",
       "  </thead>\n",
       "  <tbody>\n",
       "    <tr>\n",
       "      <th>2014Q1</th>\n",
       "      <td>0.6</td>\n",
       "    </tr>\n",
       "    <tr>\n",
       "      <th>2014Q2</th>\n",
       "      <td>0.6</td>\n",
       "    </tr>\n",
       "    <tr>\n",
       "      <th>2014Q3</th>\n",
       "      <td>-0.1</td>\n",
       "    </tr>\n",
       "    <tr>\n",
       "      <th>2014Q4</th>\n",
       "      <td>0.2</td>\n",
       "    </tr>\n",
       "    <tr>\n",
       "      <th>2015Q1</th>\n",
       "      <td>-0.5</td>\n",
       "    </tr>\n",
       "  </tbody>\n",
       "</table>\n",
       "</div>"
      ],
      "text/plain": [
       "        composite\n",
       "2014Q1        0.6\n",
       "2014Q2        0.6\n",
       "2014Q3       -0.1\n",
       "2014Q4        0.2\n",
       "2015Q1       -0.5"
      ]
     },
     "execution_count": 22,
     "metadata": {},
     "output_type": "execute_result"
    }
   ],
   "source": [
    "comp_df = comp_df.loc['2014 1Q':, :] #save rows from 2014 1Q onwards\n",
    "#reformat quarters through slicing so they can be read by to_datetime\n",
    "comp_df.index = [period.split(' ')[0] + 'Q' + period.split(' ')[1][0] for period in comp_df.index]\n",
    "comp_df.head()"
   ]
  },
  {
   "cell_type": "code",
   "execution_count": 23,
   "metadata": {},
   "outputs": [
    {
     "name": "stdout",
     "output_type": "stream",
     "text": [
      "period[Q-DEC]\n"
     ]
    },
    {
     "data": {
      "text/html": [
       "<div>\n",
       "<style scoped>\n",
       "    .dataframe tbody tr th:only-of-type {\n",
       "        vertical-align: middle;\n",
       "    }\n",
       "\n",
       "    .dataframe tbody tr th {\n",
       "        vertical-align: top;\n",
       "    }\n",
       "\n",
       "    .dataframe thead th {\n",
       "        text-align: right;\n",
       "    }\n",
       "</style>\n",
       "<table border=\"1\" class=\"dataframe\">\n",
       "  <thead>\n",
       "    <tr style=\"text-align: right;\">\n",
       "      <th></th>\n",
       "      <th>composite</th>\n",
       "      <th>date</th>\n",
       "    </tr>\n",
       "  </thead>\n",
       "  <tbody>\n",
       "    <tr>\n",
       "      <th>0</th>\n",
       "      <td>0.6</td>\n",
       "      <td>2014Q1</td>\n",
       "    </tr>\n",
       "    <tr>\n",
       "      <th>1</th>\n",
       "      <td>0.6</td>\n",
       "      <td>2014Q2</td>\n",
       "    </tr>\n",
       "    <tr>\n",
       "      <th>2</th>\n",
       "      <td>-0.1</td>\n",
       "      <td>2014Q3</td>\n",
       "    </tr>\n",
       "    <tr>\n",
       "      <th>3</th>\n",
       "      <td>0.2</td>\n",
       "      <td>2014Q4</td>\n",
       "    </tr>\n",
       "    <tr>\n",
       "      <th>4</th>\n",
       "      <td>-0.5</td>\n",
       "      <td>2015Q1</td>\n",
       "    </tr>\n",
       "  </tbody>\n",
       "</table>\n",
       "</div>"
      ],
      "text/plain": [
       "   composite    date\n",
       "0        0.6  2014Q1\n",
       "1        0.6  2014Q2\n",
       "2       -0.1  2014Q3\n",
       "3        0.2  2014Q4\n",
       "4       -0.5  2015Q1"
      ]
     },
     "execution_count": 23,
     "metadata": {},
     "output_type": "execute_result"
    }
   ],
   "source": [
    "comp_df['date'] = comp_df.index #create new column for date\n",
    "comp_df['date'] = pd.to_datetime(comp_df['date']).dt.to_period('Q') #convert to datetime\n",
    "comp_df.reset_index(inplace=True) #take date out of index\n",
    "comp_df.drop('index', axis=1, inplace=True) #when reset_index is done, new columnd called 'index' is formed. drop this\n",
    "print(comp_df['date'].dtype) #check time conversion is done \n",
    "comp_df.head()"
   ]
  },
  {
   "cell_type": "markdown",
   "metadata": {},
   "source": [
    "### Industrial production index (quarterly)"
   ]
  },
  {
   "cell_type": "code",
   "execution_count": 63,
   "metadata": {},
   "outputs": [
    {
     "data": {
      "text/html": [
       "<div>\n",
       "<style scoped>\n",
       "    .dataframe tbody tr th:only-of-type {\n",
       "        vertical-align: middle;\n",
       "    }\n",
       "\n",
       "    .dataframe tbody tr th {\n",
       "        vertical-align: top;\n",
       "    }\n",
       "\n",
       "    .dataframe thead th {\n",
       "        text-align: right;\n",
       "    }\n",
       "</style>\n",
       "<table border=\"1\" class=\"dataframe\">\n",
       "  <thead>\n",
       "    <tr style=\"text-align: right;\">\n",
       "      <th></th>\n",
       "      <th>2014 1Q</th>\n",
       "      <th>2014 2Q</th>\n",
       "      <th>2014 3Q</th>\n",
       "      <th>2014 4Q</th>\n",
       "      <th>2015 1Q</th>\n",
       "      <th>2015 2Q</th>\n",
       "      <th>2015 3Q</th>\n",
       "      <th>2015 4Q</th>\n",
       "      <th>2016 1Q</th>\n",
       "      <th>2016 2Q</th>\n",
       "      <th>...</th>\n",
       "      <th>2017 1Q</th>\n",
       "      <th>2017 2Q</th>\n",
       "      <th>2017 3Q</th>\n",
       "      <th>2017 4Q</th>\n",
       "      <th>2018 1Q</th>\n",
       "      <th>2018 2Q</th>\n",
       "      <th>2018 3Q</th>\n",
       "      <th>2018 4Q</th>\n",
       "      <th>2019 1Q</th>\n",
       "      <th>2019 2Q</th>\n",
       "    </tr>\n",
       "  </thead>\n",
       "  <tbody>\n",
       "    <tr>\n",
       "      <th>0</th>\n",
       "      <td>9.6</td>\n",
       "      <td>1.4</td>\n",
       "      <td>1.7</td>\n",
       "      <td>-1.2</td>\n",
       "      <td>-4.3</td>\n",
       "      <td>-4.3</td>\n",
       "      <td>-5.7</td>\n",
       "      <td>-6.2</td>\n",
       "      <td>-0.4</td>\n",
       "      <td>1.6</td>\n",
       "      <td>...</td>\n",
       "      <td>8.4</td>\n",
       "      <td>8.6</td>\n",
       "      <td>19.3</td>\n",
       "      <td>5.8</td>\n",
       "      <td>10.0</td>\n",
       "      <td>10.6</td>\n",
       "      <td>3.5</td>\n",
       "      <td>4.6</td>\n",
       "      <td>-0.3</td>\n",
       "      <td>-3.1</td>\n",
       "    </tr>\n",
       "  </tbody>\n",
       "</table>\n",
       "<p>1 rows × 22 columns</p>\n",
       "</div>"
      ],
      "text/plain": [
       "   2014 1Q  2014 2Q  2014 3Q  2014 4Q  2015 1Q  2015 2Q  2015 3Q  2015 4Q  \\\n",
       "0      9.6      1.4      1.7     -1.2     -4.3     -4.3     -5.7     -6.2   \n",
       "\n",
       "   2016 1Q  2016 2Q  ...  2017 1Q  2017 2Q  2017 3Q  2017 4Q  2018 1Q  \\\n",
       "0     -0.4      1.6  ...      8.4      8.6     19.3      5.8     10.0   \n",
       "\n",
       "   2018 2Q  2018 3Q  2018 4Q  2019 1Q  2019 2Q  \n",
       "0     10.6      3.5      4.6     -0.3     -3.1  \n",
       "\n",
       "[1 rows x 22 columns]"
      ]
     },
     "execution_count": 63,
     "metadata": {},
     "output_type": "execute_result"
    }
   ],
   "source": [
    "industrial_quart_df = pd.read_csv('../datasets/economic-data/industrial-quart.csv')\n",
    "industrial_quart_df"
   ]
  },
  {
   "cell_type": "code",
   "execution_count": 64,
   "metadata": {},
   "outputs": [
    {
     "data": {
      "text/html": [
       "<div>\n",
       "<style scoped>\n",
       "    .dataframe tbody tr th:only-of-type {\n",
       "        vertical-align: middle;\n",
       "    }\n",
       "\n",
       "    .dataframe tbody tr th {\n",
       "        vertical-align: top;\n",
       "    }\n",
       "\n",
       "    .dataframe thead th {\n",
       "        text-align: right;\n",
       "    }\n",
       "</style>\n",
       "<table border=\"1\" class=\"dataframe\">\n",
       "  <thead>\n",
       "    <tr style=\"text-align: right;\">\n",
       "      <th></th>\n",
       "      <th>industrial</th>\n",
       "    </tr>\n",
       "  </thead>\n",
       "  <tbody>\n",
       "    <tr>\n",
       "      <th>2014 1Q</th>\n",
       "      <td>9.6</td>\n",
       "    </tr>\n",
       "    <tr>\n",
       "      <th>2014 2Q</th>\n",
       "      <td>1.4</td>\n",
       "    </tr>\n",
       "    <tr>\n",
       "      <th>2014 3Q</th>\n",
       "      <td>1.7</td>\n",
       "    </tr>\n",
       "    <tr>\n",
       "      <th>2014 4Q</th>\n",
       "      <td>-1.2</td>\n",
       "    </tr>\n",
       "    <tr>\n",
       "      <th>2015 1Q</th>\n",
       "      <td>-4.3</td>\n",
       "    </tr>\n",
       "  </tbody>\n",
       "</table>\n",
       "</div>"
      ],
      "text/plain": [
       "         industrial\n",
       "2014 1Q         9.6\n",
       "2014 2Q         1.4\n",
       "2014 3Q         1.7\n",
       "2014 4Q        -1.2\n",
       "2015 1Q        -4.3"
      ]
     },
     "execution_count": 64,
     "metadata": {},
     "output_type": "execute_result"
    }
   ],
   "source": [
    "industrial_quart_df = industrial_quart_df.T #transpose to make time periods rows\n",
    "industrial_quart_df.rename(columns={0: \"industrial\"}, inplace=True) #name the value column as industrial\n",
    "industrial_quart_df.head()"
   ]
  },
  {
   "cell_type": "code",
   "execution_count": 65,
   "metadata": {},
   "outputs": [
    {
     "data": {
      "text/html": [
       "<div>\n",
       "<style scoped>\n",
       "    .dataframe tbody tr th:only-of-type {\n",
       "        vertical-align: middle;\n",
       "    }\n",
       "\n",
       "    .dataframe tbody tr th {\n",
       "        vertical-align: top;\n",
       "    }\n",
       "\n",
       "    .dataframe thead th {\n",
       "        text-align: right;\n",
       "    }\n",
       "</style>\n",
       "<table border=\"1\" class=\"dataframe\">\n",
       "  <thead>\n",
       "    <tr style=\"text-align: right;\">\n",
       "      <th></th>\n",
       "      <th>industrial</th>\n",
       "    </tr>\n",
       "  </thead>\n",
       "  <tbody>\n",
       "    <tr>\n",
       "      <th>2014Q1</th>\n",
       "      <td>9.6</td>\n",
       "    </tr>\n",
       "    <tr>\n",
       "      <th>2014Q2</th>\n",
       "      <td>1.4</td>\n",
       "    </tr>\n",
       "    <tr>\n",
       "      <th>2014Q3</th>\n",
       "      <td>1.7</td>\n",
       "    </tr>\n",
       "    <tr>\n",
       "      <th>2014Q4</th>\n",
       "      <td>-1.2</td>\n",
       "    </tr>\n",
       "    <tr>\n",
       "      <th>2015Q1</th>\n",
       "      <td>-4.3</td>\n",
       "    </tr>\n",
       "  </tbody>\n",
       "</table>\n",
       "</div>"
      ],
      "text/plain": [
       "        industrial\n",
       "2014Q1         9.6\n",
       "2014Q2         1.4\n",
       "2014Q3         1.7\n",
       "2014Q4        -1.2\n",
       "2015Q1        -4.3"
      ]
     },
     "execution_count": 65,
     "metadata": {},
     "output_type": "execute_result"
    }
   ],
   "source": [
    "#reformat quarters through slicing so they can be read by to_datetime\n",
    "industrial_quart_df.index = [period.split(' ')[0] + 'Q' + period.split(' ')[1][0] for period in industrial_quart_df.index]\n",
    "industrial_quart_df.head()"
   ]
  },
  {
   "cell_type": "code",
   "execution_count": 66,
   "metadata": {},
   "outputs": [
    {
     "name": "stdout",
     "output_type": "stream",
     "text": [
      "period[Q-DEC]\n"
     ]
    },
    {
     "data": {
      "text/html": [
       "<div>\n",
       "<style scoped>\n",
       "    .dataframe tbody tr th:only-of-type {\n",
       "        vertical-align: middle;\n",
       "    }\n",
       "\n",
       "    .dataframe tbody tr th {\n",
       "        vertical-align: top;\n",
       "    }\n",
       "\n",
       "    .dataframe thead th {\n",
       "        text-align: right;\n",
       "    }\n",
       "</style>\n",
       "<table border=\"1\" class=\"dataframe\">\n",
       "  <thead>\n",
       "    <tr style=\"text-align: right;\">\n",
       "      <th></th>\n",
       "      <th>industrial</th>\n",
       "      <th>date</th>\n",
       "    </tr>\n",
       "  </thead>\n",
       "  <tbody>\n",
       "    <tr>\n",
       "      <th>0</th>\n",
       "      <td>9.6</td>\n",
       "      <td>2014Q1</td>\n",
       "    </tr>\n",
       "    <tr>\n",
       "      <th>1</th>\n",
       "      <td>1.4</td>\n",
       "      <td>2014Q2</td>\n",
       "    </tr>\n",
       "    <tr>\n",
       "      <th>2</th>\n",
       "      <td>1.7</td>\n",
       "      <td>2014Q3</td>\n",
       "    </tr>\n",
       "    <tr>\n",
       "      <th>3</th>\n",
       "      <td>-1.2</td>\n",
       "      <td>2014Q4</td>\n",
       "    </tr>\n",
       "    <tr>\n",
       "      <th>4</th>\n",
       "      <td>-4.3</td>\n",
       "      <td>2015Q1</td>\n",
       "    </tr>\n",
       "  </tbody>\n",
       "</table>\n",
       "</div>"
      ],
      "text/plain": [
       "   industrial    date\n",
       "0         9.6  2014Q1\n",
       "1         1.4  2014Q2\n",
       "2         1.7  2014Q3\n",
       "3        -1.2  2014Q4\n",
       "4        -4.3  2015Q1"
      ]
     },
     "execution_count": 66,
     "metadata": {},
     "output_type": "execute_result"
    }
   ],
   "source": [
    "industrial_quart_df['date'] = industrial_quart_df.index #create new column for date\n",
    "industrial_quart_df['date'] = pd.to_datetime(industrial_quart_df['date']).dt.to_period('Q') #convert to datetime\n",
    "industrial_quart_df.reset_index(inplace=True) #take date out of index\n",
    "industrial_quart_df.drop('index', axis=1, inplace=True) #when reset_index is done, new columnd called 'index' is formed. drop this\n",
    "print(industrial_quart_df['date'].dtype) #check time conversion is done \n",
    "industrial_quart_df.head()"
   ]
  },
  {
   "cell_type": "markdown",
   "metadata": {},
   "source": [
    "### Merchandise trade (quarterly)"
   ]
  },
  {
   "cell_type": "markdown",
   "metadata": {},
   "source": [
    "As Singstat does not have the quarterly figures for this particular measure, we will have to use the raw numbers and calculate the quarterly growth. "
   ]
  },
  {
   "cell_type": "code",
   "execution_count": 106,
   "metadata": {},
   "outputs": [
    {
     "data": {
      "text/html": [
       "<div>\n",
       "<style scoped>\n",
       "    .dataframe tbody tr th:only-of-type {\n",
       "        vertical-align: middle;\n",
       "    }\n",
       "\n",
       "    .dataframe tbody tr th {\n",
       "        vertical-align: top;\n",
       "    }\n",
       "\n",
       "    .dataframe thead th {\n",
       "        text-align: right;\n",
       "    }\n",
       "</style>\n",
       "<table border=\"1\" class=\"dataframe\">\n",
       "  <thead>\n",
       "    <tr style=\"text-align: right;\">\n",
       "      <th></th>\n",
       "      <th>2013 Jan</th>\n",
       "      <th>2013 Feb</th>\n",
       "      <th>2013 Mar</th>\n",
       "      <th>2013 Apr</th>\n",
       "      <th>2013 May</th>\n",
       "      <th>2013 Jun</th>\n",
       "      <th>2013 Jul</th>\n",
       "      <th>2013 Aug</th>\n",
       "      <th>2013 Sep</th>\n",
       "      <th>2013 Oct</th>\n",
       "      <th>...</th>\n",
       "      <th>2018 Sep</th>\n",
       "      <th>2018 Oct</th>\n",
       "      <th>2018 Nov</th>\n",
       "      <th>2018 Dec</th>\n",
       "      <th>2019 Jan</th>\n",
       "      <th>2019 Feb</th>\n",
       "      <th>2019 Mar</th>\n",
       "      <th>2019 Apr</th>\n",
       "      <th>2019 May</th>\n",
       "      <th>2019 Jun</th>\n",
       "    </tr>\n",
       "  </thead>\n",
       "  <tbody>\n",
       "    <tr>\n",
       "      <th>0</th>\n",
       "      <td>82,541,865.000000000</td>\n",
       "      <td>72,915,521.000000000</td>\n",
       "      <td>80,374,024.000000000</td>\n",
       "      <td>87,749,589.000000000</td>\n",
       "      <td>87,712,431.000000000</td>\n",
       "      <td>82,677,400.0000000</td>\n",
       "      <td>90,009,611.000000000</td>\n",
       "      <td>84,320,793.000000000</td>\n",
       "      <td>86,777,871.000000000</td>\n",
       "      <td>92,787,692.000000000</td>\n",
       "      <td>...</td>\n",
       "      <td>87,289,930.00000000</td>\n",
       "      <td>98,783,433.000000000</td>\n",
       "      <td>93,814,550.00000000</td>\n",
       "      <td>86,058,910.00000000</td>\n",
       "      <td>86,084,269.000000000</td>\n",
       "      <td>75,947,265.000000000</td>\n",
       "      <td>84,571,918.000000000</td>\n",
       "      <td>85,537,594.000000000</td>\n",
       "      <td>89,270,531.000000000</td>\n",
       "      <td>80,405,391.000000000</td>\n",
       "    </tr>\n",
       "  </tbody>\n",
       "</table>\n",
       "<p>1 rows × 78 columns</p>\n",
       "</div>"
      ],
      "text/plain": [
       "               2013 Jan              2013 Feb              2013 Mar  \\\n",
       "0  82,541,865.000000000  72,915,521.000000000  80,374,024.000000000   \n",
       "\n",
       "               2013 Apr              2013 May            2013 Jun  \\\n",
       "0  87,749,589.000000000  87,712,431.000000000  82,677,400.0000000   \n",
       "\n",
       "               2013 Jul              2013 Aug              2013 Sep  \\\n",
       "0  90,009,611.000000000  84,320,793.000000000  86,777,871.000000000   \n",
       "\n",
       "               2013 Oct  ...             2018 Sep              2018 Oct  \\\n",
       "0  92,787,692.000000000  ...  87,289,930.00000000  98,783,433.000000000   \n",
       "\n",
       "              2018 Nov             2018 Dec              2019 Jan  \\\n",
       "0  93,814,550.00000000  86,058,910.00000000  86,084,269.000000000   \n",
       "\n",
       "               2019 Feb              2019 Mar              2019 Apr  \\\n",
       "0  75,947,265.000000000  84,571,918.000000000  85,537,594.000000000   \n",
       "\n",
       "               2019 May              2019 Jun  \n",
       "0  89,270,531.000000000  80,405,391.000000000  \n",
       "\n",
       "[1 rows x 78 columns]"
      ]
     },
     "execution_count": 106,
     "metadata": {},
     "output_type": "execute_result"
    }
   ],
   "source": [
    "merch_raw_df = pd.read_csv('../datasets/economic-data/merch-raw.csv')\n",
    "merch_raw_df"
   ]
  },
  {
   "cell_type": "code",
   "execution_count": 107,
   "metadata": {},
   "outputs": [
    {
     "data": {
      "text/html": [
       "<div>\n",
       "<style scoped>\n",
       "    .dataframe tbody tr th:only-of-type {\n",
       "        vertical-align: middle;\n",
       "    }\n",
       "\n",
       "    .dataframe tbody tr th {\n",
       "        vertical-align: top;\n",
       "    }\n",
       "\n",
       "    .dataframe thead th {\n",
       "        text-align: right;\n",
       "    }\n",
       "</style>\n",
       "<table border=\"1\" class=\"dataframe\">\n",
       "  <thead>\n",
       "    <tr style=\"text-align: right;\">\n",
       "      <th></th>\n",
       "      <th>merch</th>\n",
       "    </tr>\n",
       "  </thead>\n",
       "  <tbody>\n",
       "    <tr>\n",
       "      <th>2013 Jan</th>\n",
       "      <td>82,541,865.000000000</td>\n",
       "    </tr>\n",
       "    <tr>\n",
       "      <th>2013 Feb</th>\n",
       "      <td>72,915,521.000000000</td>\n",
       "    </tr>\n",
       "    <tr>\n",
       "      <th>2013 Mar</th>\n",
       "      <td>80,374,024.000000000</td>\n",
       "    </tr>\n",
       "    <tr>\n",
       "      <th>2013 Apr</th>\n",
       "      <td>87,749,589.000000000</td>\n",
       "    </tr>\n",
       "    <tr>\n",
       "      <th>2013 May</th>\n",
       "      <td>87,712,431.000000000</td>\n",
       "    </tr>\n",
       "  </tbody>\n",
       "</table>\n",
       "</div>"
      ],
      "text/plain": [
       "                         merch\n",
       "2013 Jan  82,541,865.000000000\n",
       "2013 Feb  72,915,521.000000000\n",
       "2013 Mar  80,374,024.000000000\n",
       "2013 Apr  87,749,589.000000000\n",
       "2013 May  87,712,431.000000000"
      ]
     },
     "execution_count": 107,
     "metadata": {},
     "output_type": "execute_result"
    }
   ],
   "source": [
    "merch_raw_df = merch_raw_df.T #transpose to make time periods rows\n",
    "merch_raw_df.rename(columns={0: \"merch\"}, inplace=True) #name the value column as merch\n",
    "merch_raw_df.head()"
   ]
  },
  {
   "cell_type": "code",
   "execution_count": 108,
   "metadata": {},
   "outputs": [],
   "source": [
    "merch_raw_df.index = pd.to_datetime(merch_raw_df.index)"
   ]
  },
  {
   "cell_type": "code",
   "execution_count": 109,
   "metadata": {},
   "outputs": [
    {
     "data": {
      "text/plain": [
       "dtype('O')"
      ]
     },
     "execution_count": 109,
     "metadata": {},
     "output_type": "execute_result"
    }
   ],
   "source": [
    "merch_raw_df['merch'].dtype #check type of merch column"
   ]
  },
  {
   "cell_type": "markdown",
   "metadata": {},
   "source": [
    "As the merchandise trade numbers are strings, we have to convert into floats."
   ]
  },
  {
   "cell_type": "code",
   "execution_count": 110,
   "metadata": {},
   "outputs": [],
   "source": [
    "merch_raw_df['merch'] = merch_raw_df['merch'].apply(lambda num: num.replace(',', '')) #remove the commas in the values"
   ]
  },
  {
   "cell_type": "code",
   "execution_count": 111,
   "metadata": {},
   "outputs": [],
   "source": [
    "merch_raw_df['merch'] = merch_raw_df['merch'].astype(float) #convert string to float"
   ]
  },
  {
   "cell_type": "code",
   "execution_count": 112,
   "metadata": {},
   "outputs": [
    {
     "data": {
      "text/html": [
       "<div>\n",
       "<style scoped>\n",
       "    .dataframe tbody tr th:only-of-type {\n",
       "        vertical-align: middle;\n",
       "    }\n",
       "\n",
       "    .dataframe tbody tr th {\n",
       "        vertical-align: top;\n",
       "    }\n",
       "\n",
       "    .dataframe thead th {\n",
       "        text-align: right;\n",
       "    }\n",
       "</style>\n",
       "<table border=\"1\" class=\"dataframe\">\n",
       "  <thead>\n",
       "    <tr style=\"text-align: right;\">\n",
       "      <th></th>\n",
       "      <th>merch</th>\n",
       "    </tr>\n",
       "  </thead>\n",
       "  <tbody>\n",
       "    <tr>\n",
       "      <th>2013-03-31</th>\n",
       "      <td>NaN</td>\n",
       "    </tr>\n",
       "    <tr>\n",
       "      <th>2013-06-30</th>\n",
       "      <td>NaN</td>\n",
       "    </tr>\n",
       "    <tr>\n",
       "      <th>2013-09-30</th>\n",
       "      <td>NaN</td>\n",
       "    </tr>\n",
       "    <tr>\n",
       "      <th>2013-12-31</th>\n",
       "      <td>NaN</td>\n",
       "    </tr>\n",
       "    <tr>\n",
       "      <th>2014-03-31</th>\n",
       "      <td>0.075146</td>\n",
       "    </tr>\n",
       "    <tr>\n",
       "      <th>2014-06-30</th>\n",
       "      <td>-0.006765</td>\n",
       "    </tr>\n",
       "    <tr>\n",
       "      <th>2014-09-30</th>\n",
       "      <td>-0.040538</td>\n",
       "    </tr>\n",
       "    <tr>\n",
       "      <th>2014-12-31</th>\n",
       "      <td>-0.046167</td>\n",
       "    </tr>\n",
       "    <tr>\n",
       "      <th>2015-03-31</th>\n",
       "      <td>-0.102581</td>\n",
       "    </tr>\n",
       "    <tr>\n",
       "      <th>2015-06-30</th>\n",
       "      <td>-0.102831</td>\n",
       "    </tr>\n",
       "  </tbody>\n",
       "</table>\n",
       "</div>"
      ],
      "text/plain": [
       "               merch\n",
       "2013-03-31       NaN\n",
       "2013-06-30       NaN\n",
       "2013-09-30       NaN\n",
       "2013-12-31       NaN\n",
       "2014-03-31  0.075146\n",
       "2014-06-30 -0.006765\n",
       "2014-09-30 -0.040538\n",
       "2014-12-31 -0.046167\n",
       "2015-03-31 -0.102581\n",
       "2015-06-30 -0.102831"
      ]
     },
     "execution_count": 112,
     "metadata": {},
     "output_type": "execute_result"
    }
   ],
   "source": [
    "merch_quart_df = merch_raw_df.resample('Q').sum().pct_change(periods=4) \n",
    "#group into quarters, sum values of quarters, then calculate percentage change, change name of df to reflect change \n",
    "#2013 becomes nan because there is no prior year to compare\n",
    "merch_quart_df.head(10)"
   ]
  },
  {
   "cell_type": "code",
   "execution_count": 113,
   "metadata": {},
   "outputs": [],
   "source": [
    "merch_quart_df.dropna(inplace=True) #drop 2013 rows\n",
    "merch_quart_df['merch'] = merch_quart_df['merch'].apply(lambda merch: np.round(merch*100, 1)) #conver to percentage by multiplying by 100, then round to 1 decimal place"
   ]
  },
  {
   "cell_type": "code",
   "execution_count": 114,
   "metadata": {},
   "outputs": [
    {
     "name": "stdout",
     "output_type": "stream",
     "text": [
      "period[Q-DEC]\n"
     ]
    },
    {
     "data": {
      "text/html": [
       "<div>\n",
       "<style scoped>\n",
       "    .dataframe tbody tr th:only-of-type {\n",
       "        vertical-align: middle;\n",
       "    }\n",
       "\n",
       "    .dataframe tbody tr th {\n",
       "        vertical-align: top;\n",
       "    }\n",
       "\n",
       "    .dataframe thead th {\n",
       "        text-align: right;\n",
       "    }\n",
       "</style>\n",
       "<table border=\"1\" class=\"dataframe\">\n",
       "  <thead>\n",
       "    <tr style=\"text-align: right;\">\n",
       "      <th></th>\n",
       "      <th>merch</th>\n",
       "      <th>date</th>\n",
       "    </tr>\n",
       "  </thead>\n",
       "  <tbody>\n",
       "    <tr>\n",
       "      <th>0</th>\n",
       "      <td>7.5</td>\n",
       "      <td>2014Q1</td>\n",
       "    </tr>\n",
       "    <tr>\n",
       "      <th>1</th>\n",
       "      <td>-0.7</td>\n",
       "      <td>2014Q2</td>\n",
       "    </tr>\n",
       "    <tr>\n",
       "      <th>2</th>\n",
       "      <td>-4.1</td>\n",
       "      <td>2014Q3</td>\n",
       "    </tr>\n",
       "    <tr>\n",
       "      <th>3</th>\n",
       "      <td>-4.6</td>\n",
       "      <td>2014Q4</td>\n",
       "    </tr>\n",
       "    <tr>\n",
       "      <th>4</th>\n",
       "      <td>-10.3</td>\n",
       "      <td>2015Q1</td>\n",
       "    </tr>\n",
       "  </tbody>\n",
       "</table>\n",
       "</div>"
      ],
      "text/plain": [
       "   merch    date\n",
       "0    7.5  2014Q1\n",
       "1   -0.7  2014Q2\n",
       "2   -4.1  2014Q3\n",
       "3   -4.6  2014Q4\n",
       "4  -10.3  2015Q1"
      ]
     },
     "execution_count": 114,
     "metadata": {},
     "output_type": "execute_result"
    }
   ],
   "source": [
    "merch_quart_df['date'] = merch_quart_df.index #create new column for date\n",
    "merch_quart_df['date'] = pd.to_datetime(merch_quart_df['date']).dt.to_period('Q') #convert to datetime\n",
    "merch_quart_df.reset_index(inplace=True) #take date out of index\n",
    "merch_quart_df.drop('index', axis=1, inplace=True) #when reset_index is done, new columnd called 'index' is formed. drop this\n",
    "print(merch_quart_df['date'].dtype) #check time conversion is done \n",
    "merch_quart_df.head()"
   ]
  },
  {
   "cell_type": "markdown",
   "metadata": {},
   "source": [
    "### Retail sales (quarterly)"
   ]
  },
  {
   "cell_type": "code",
   "execution_count": 59,
   "metadata": {},
   "outputs": [
    {
     "data": {
      "text/html": [
       "<div>\n",
       "<style scoped>\n",
       "    .dataframe tbody tr th:only-of-type {\n",
       "        vertical-align: middle;\n",
       "    }\n",
       "\n",
       "    .dataframe tbody tr th {\n",
       "        vertical-align: top;\n",
       "    }\n",
       "\n",
       "    .dataframe thead th {\n",
       "        text-align: right;\n",
       "    }\n",
       "</style>\n",
       "<table border=\"1\" class=\"dataframe\">\n",
       "  <thead>\n",
       "    <tr style=\"text-align: right;\">\n",
       "      <th></th>\n",
       "      <th>2014 1Q</th>\n",
       "      <th>2014 2Q</th>\n",
       "      <th>2014 3Q</th>\n",
       "      <th>2014 4Q</th>\n",
       "      <th>2015 1Q</th>\n",
       "      <th>2015 2Q</th>\n",
       "      <th>2015 3Q</th>\n",
       "      <th>2015 4Q</th>\n",
       "      <th>2016 1Q</th>\n",
       "      <th>2016 2Q</th>\n",
       "      <th>...</th>\n",
       "      <th>2017 1Q</th>\n",
       "      <th>2017 2Q</th>\n",
       "      <th>2017 3Q</th>\n",
       "      <th>2017 4Q</th>\n",
       "      <th>2018 1Q</th>\n",
       "      <th>2018 2Q</th>\n",
       "      <th>2018 3Q</th>\n",
       "      <th>2018 4Q</th>\n",
       "      <th>2019 1Q</th>\n",
       "      <th>2019 2Q</th>\n",
       "    </tr>\n",
       "  </thead>\n",
       "  <tbody>\n",
       "    <tr>\n",
       "      <th>0</th>\n",
       "      <td>-1.0</td>\n",
       "      <td>-5.8</td>\n",
       "      <td>2.4</td>\n",
       "      <td>5.8</td>\n",
       "      <td>3.5</td>\n",
       "      <td>6.3</td>\n",
       "      <td>5.5</td>\n",
       "      <td>3.2</td>\n",
       "      <td>2.6</td>\n",
       "      <td>1.9</td>\n",
       "      <td>...</td>\n",
       "      <td>1.1</td>\n",
       "      <td>0.5</td>\n",
       "      <td>0.4</td>\n",
       "      <td>3.0</td>\n",
       "      <td>-1.7</td>\n",
       "      <td>0.4</td>\n",
       "      <td>-1.0</td>\n",
       "      <td>-2.4</td>\n",
       "      <td>-0.6</td>\n",
       "      <td>-4.6</td>\n",
       "    </tr>\n",
       "  </tbody>\n",
       "</table>\n",
       "<p>1 rows × 22 columns</p>\n",
       "</div>"
      ],
      "text/plain": [
       "   2014 1Q  2014 2Q  2014 3Q  2014 4Q  2015 1Q  2015 2Q  2015 3Q  2015 4Q  \\\n",
       "0     -1.0     -5.8      2.4      5.8      3.5      6.3      5.5      3.2   \n",
       "\n",
       "   2016 1Q  2016 2Q  ...  2017 1Q  2017 2Q  2017 3Q  2017 4Q  2018 1Q  \\\n",
       "0      2.6      1.9  ...      1.1      0.5      0.4      3.0     -1.7   \n",
       "\n",
       "   2018 2Q  2018 3Q  2018 4Q  2019 1Q  2019 2Q  \n",
       "0      0.4     -1.0     -2.4     -0.6     -4.6  \n",
       "\n",
       "[1 rows x 22 columns]"
      ]
     },
     "execution_count": 59,
     "metadata": {},
     "output_type": "execute_result"
    }
   ],
   "source": [
    "retail_quart_df = pd.read_csv('../datasets/economic-data/retail-quart.csv')\n",
    "retail_quart_df"
   ]
  },
  {
   "cell_type": "code",
   "execution_count": 60,
   "metadata": {},
   "outputs": [
    {
     "data": {
      "text/html": [
       "<div>\n",
       "<style scoped>\n",
       "    .dataframe tbody tr th:only-of-type {\n",
       "        vertical-align: middle;\n",
       "    }\n",
       "\n",
       "    .dataframe tbody tr th {\n",
       "        vertical-align: top;\n",
       "    }\n",
       "\n",
       "    .dataframe thead th {\n",
       "        text-align: right;\n",
       "    }\n",
       "</style>\n",
       "<table border=\"1\" class=\"dataframe\">\n",
       "  <thead>\n",
       "    <tr style=\"text-align: right;\">\n",
       "      <th></th>\n",
       "      <th>retail</th>\n",
       "    </tr>\n",
       "  </thead>\n",
       "  <tbody>\n",
       "    <tr>\n",
       "      <th>2014 1Q</th>\n",
       "      <td>-1.0</td>\n",
       "    </tr>\n",
       "    <tr>\n",
       "      <th>2014 2Q</th>\n",
       "      <td>-5.8</td>\n",
       "    </tr>\n",
       "    <tr>\n",
       "      <th>2014 3Q</th>\n",
       "      <td>2.4</td>\n",
       "    </tr>\n",
       "    <tr>\n",
       "      <th>2014 4Q</th>\n",
       "      <td>5.8</td>\n",
       "    </tr>\n",
       "    <tr>\n",
       "      <th>2015 1Q</th>\n",
       "      <td>3.5</td>\n",
       "    </tr>\n",
       "  </tbody>\n",
       "</table>\n",
       "</div>"
      ],
      "text/plain": [
       "         retail\n",
       "2014 1Q    -1.0\n",
       "2014 2Q    -5.8\n",
       "2014 3Q     2.4\n",
       "2014 4Q     5.8\n",
       "2015 1Q     3.5"
      ]
     },
     "execution_count": 60,
     "metadata": {},
     "output_type": "execute_result"
    }
   ],
   "source": [
    "retail_quart_df = retail_quart_df.T #transpose to make time periods rows\n",
    "retail_quart_df.rename(columns={0: \"retail\"}, inplace=True) #name the value column as retail\n",
    "retail_quart_df.head()"
   ]
  },
  {
   "cell_type": "code",
   "execution_count": 61,
   "metadata": {
    "scrolled": true
   },
   "outputs": [
    {
     "data": {
      "text/html": [
       "<div>\n",
       "<style scoped>\n",
       "    .dataframe tbody tr th:only-of-type {\n",
       "        vertical-align: middle;\n",
       "    }\n",
       "\n",
       "    .dataframe tbody tr th {\n",
       "        vertical-align: top;\n",
       "    }\n",
       "\n",
       "    .dataframe thead th {\n",
       "        text-align: right;\n",
       "    }\n",
       "</style>\n",
       "<table border=\"1\" class=\"dataframe\">\n",
       "  <thead>\n",
       "    <tr style=\"text-align: right;\">\n",
       "      <th></th>\n",
       "      <th>retail</th>\n",
       "    </tr>\n",
       "  </thead>\n",
       "  <tbody>\n",
       "    <tr>\n",
       "      <th>2014Q1</th>\n",
       "      <td>-1.0</td>\n",
       "    </tr>\n",
       "    <tr>\n",
       "      <th>2014Q2</th>\n",
       "      <td>-5.8</td>\n",
       "    </tr>\n",
       "    <tr>\n",
       "      <th>2014Q3</th>\n",
       "      <td>2.4</td>\n",
       "    </tr>\n",
       "    <tr>\n",
       "      <th>2014Q4</th>\n",
       "      <td>5.8</td>\n",
       "    </tr>\n",
       "    <tr>\n",
       "      <th>2015Q1</th>\n",
       "      <td>3.5</td>\n",
       "    </tr>\n",
       "  </tbody>\n",
       "</table>\n",
       "</div>"
      ],
      "text/plain": [
       "        retail\n",
       "2014Q1    -1.0\n",
       "2014Q2    -5.8\n",
       "2014Q3     2.4\n",
       "2014Q4     5.8\n",
       "2015Q1     3.5"
      ]
     },
     "execution_count": 61,
     "metadata": {},
     "output_type": "execute_result"
    }
   ],
   "source": [
    "#reformat quarters through slicing so they can be read by to_datetime\n",
    "retail_quart_df.index = [period.split(' ')[0] + 'Q' + period.split(' ')[1][0] for period in retail_quart_df.index]\n",
    "retail_quart_df.head()"
   ]
  },
  {
   "cell_type": "code",
   "execution_count": 62,
   "metadata": {},
   "outputs": [
    {
     "name": "stdout",
     "output_type": "stream",
     "text": [
      "period[Q-DEC]\n"
     ]
    },
    {
     "data": {
      "text/html": [
       "<div>\n",
       "<style scoped>\n",
       "    .dataframe tbody tr th:only-of-type {\n",
       "        vertical-align: middle;\n",
       "    }\n",
       "\n",
       "    .dataframe tbody tr th {\n",
       "        vertical-align: top;\n",
       "    }\n",
       "\n",
       "    .dataframe thead th {\n",
       "        text-align: right;\n",
       "    }\n",
       "</style>\n",
       "<table border=\"1\" class=\"dataframe\">\n",
       "  <thead>\n",
       "    <tr style=\"text-align: right;\">\n",
       "      <th></th>\n",
       "      <th>retail</th>\n",
       "      <th>date</th>\n",
       "    </tr>\n",
       "  </thead>\n",
       "  <tbody>\n",
       "    <tr>\n",
       "      <th>0</th>\n",
       "      <td>-1.0</td>\n",
       "      <td>2014Q1</td>\n",
       "    </tr>\n",
       "    <tr>\n",
       "      <th>1</th>\n",
       "      <td>-5.8</td>\n",
       "      <td>2014Q2</td>\n",
       "    </tr>\n",
       "    <tr>\n",
       "      <th>2</th>\n",
       "      <td>2.4</td>\n",
       "      <td>2014Q3</td>\n",
       "    </tr>\n",
       "    <tr>\n",
       "      <th>3</th>\n",
       "      <td>5.8</td>\n",
       "      <td>2014Q4</td>\n",
       "    </tr>\n",
       "    <tr>\n",
       "      <th>4</th>\n",
       "      <td>3.5</td>\n",
       "      <td>2015Q1</td>\n",
       "    </tr>\n",
       "  </tbody>\n",
       "</table>\n",
       "</div>"
      ],
      "text/plain": [
       "   retail    date\n",
       "0    -1.0  2014Q1\n",
       "1    -5.8  2014Q2\n",
       "2     2.4  2014Q3\n",
       "3     5.8  2014Q4\n",
       "4     3.5  2015Q1"
      ]
     },
     "execution_count": 62,
     "metadata": {},
     "output_type": "execute_result"
    }
   ],
   "source": [
    "retail_quart_df['date'] = retail_quart_df.index #create new column for date\n",
    "retail_quart_df['date'] = pd.to_datetime(retail_quart_df['date']).dt.to_period('Q') #convert to datetime\n",
    "retail_quart_df.reset_index(inplace=True) #take date out of index\n",
    "retail_quart_df.drop('index', axis=1, inplace=True) #when reset_index is done, new columnd called 'index' is formed. drop this\n",
    "print(retail_quart_df['date'].dtype) #check time conversion is done \n",
    "retail_quart_df.head()"
   ]
  },
  {
   "cell_type": "markdown",
   "metadata": {},
   "source": [
    "### Merge quarterly data"
   ]
  },
  {
   "cell_type": "code",
   "execution_count": 116,
   "metadata": {},
   "outputs": [
    {
     "data": {
      "text/html": [
       "<div>\n",
       "<style scoped>\n",
       "    .dataframe tbody tr th:only-of-type {\n",
       "        vertical-align: middle;\n",
       "    }\n",
       "\n",
       "    .dataframe tbody tr th {\n",
       "        vertical-align: top;\n",
       "    }\n",
       "\n",
       "    .dataframe thead th {\n",
       "        text-align: right;\n",
       "    }\n",
       "</style>\n",
       "<table border=\"1\" class=\"dataframe\">\n",
       "  <thead>\n",
       "    <tr style=\"text-align: right;\">\n",
       "      <th></th>\n",
       "      <th>date</th>\n",
       "      <th>gdp_growth</th>\n",
       "      <th>composite</th>\n",
       "      <th>industrial</th>\n",
       "      <th>merch</th>\n",
       "      <th>retail</th>\n",
       "    </tr>\n",
       "  </thead>\n",
       "  <tbody>\n",
       "    <tr>\n",
       "      <th>0</th>\n",
       "      <td>2014Q1</td>\n",
       "      <td>4.3</td>\n",
       "      <td>0.6</td>\n",
       "      <td>9.6</td>\n",
       "      <td>7.5</td>\n",
       "      <td>-1.0</td>\n",
       "    </tr>\n",
       "    <tr>\n",
       "      <th>1</th>\n",
       "      <td>2014Q2</td>\n",
       "      <td>3.3</td>\n",
       "      <td>0.6</td>\n",
       "      <td>1.4</td>\n",
       "      <td>-0.7</td>\n",
       "      <td>-5.8</td>\n",
       "    </tr>\n",
       "    <tr>\n",
       "      <th>2</th>\n",
       "      <td>2014Q3</td>\n",
       "      <td>3.6</td>\n",
       "      <td>-0.1</td>\n",
       "      <td>1.7</td>\n",
       "      <td>-4.1</td>\n",
       "      <td>2.4</td>\n",
       "    </tr>\n",
       "    <tr>\n",
       "      <th>3</th>\n",
       "      <td>2014Q4</td>\n",
       "      <td>4.4</td>\n",
       "      <td>0.2</td>\n",
       "      <td>-1.2</td>\n",
       "      <td>-4.6</td>\n",
       "      <td>5.8</td>\n",
       "    </tr>\n",
       "    <tr>\n",
       "      <th>4</th>\n",
       "      <td>2015Q1</td>\n",
       "      <td>2.9</td>\n",
       "      <td>-0.5</td>\n",
       "      <td>-4.3</td>\n",
       "      <td>-10.3</td>\n",
       "      <td>3.5</td>\n",
       "    </tr>\n",
       "  </tbody>\n",
       "</table>\n",
       "</div>"
      ],
      "text/plain": [
       "     date  gdp_growth  composite  industrial  merch  retail\n",
       "0  2014Q1         4.3        0.6         9.6    7.5    -1.0\n",
       "1  2014Q2         3.3        0.6         1.4   -0.7    -5.8\n",
       "2  2014Q3         3.6       -0.1         1.7   -4.1     2.4\n",
       "3  2014Q4         4.4        0.2        -1.2   -4.6     5.8\n",
       "4  2015Q1         2.9       -0.5        -4.3  -10.3     3.5"
      ]
     },
     "execution_count": 116,
     "metadata": {},
     "output_type": "execute_result"
    }
   ],
   "source": [
    "quart_df = pd.merge(gdp_df, comp_df, on='date').merge(industrial_quart_df, on='date').merge(merch_quart_df, on='date').merge(retail_quart_df, on='date')\n",
    "quart_df = quart_df[['date', 'gdp_growth', 'composite', 'industrial', 'merch', 'retail']] #rearrange columns so date is first column\n",
    "quart_df.head()"
   ]
  },
  {
   "cell_type": "markdown",
   "metadata": {},
   "source": [
    "Save the quarterly data to `csv`."
   ]
  },
  {
   "cell_type": "code",
   "execution_count": 119,
   "metadata": {},
   "outputs": [],
   "source": [
    "quart_df.to_csv('../datasets/economic-data/quart.csv')"
   ]
  },
  {
   "cell_type": "markdown",
   "metadata": {},
   "source": [
    "### Industrial production index (monthly)"
   ]
  },
  {
   "cell_type": "markdown",
   "metadata": {},
   "source": [
    "This index tracks the manufacturing sector in Singapore and comes in monthly form, as does the rest of the subsequent data. "
   ]
  },
  {
   "cell_type": "code",
   "execution_count": 32,
   "metadata": {},
   "outputs": [
    {
     "data": {
      "text/html": [
       "<div>\n",
       "<style scoped>\n",
       "    .dataframe tbody tr th:only-of-type {\n",
       "        vertical-align: middle;\n",
       "    }\n",
       "\n",
       "    .dataframe tbody tr th {\n",
       "        vertical-align: top;\n",
       "    }\n",
       "\n",
       "    .dataframe thead th {\n",
       "        text-align: right;\n",
       "    }\n",
       "</style>\n",
       "<table border=\"1\" class=\"dataframe\">\n",
       "  <thead>\n",
       "    <tr style=\"text-align: right;\">\n",
       "      <th></th>\n",
       "      <th>2014 Jan</th>\n",
       "      <th>2014 Feb</th>\n",
       "      <th>2014 Mar</th>\n",
       "      <th>2014 Apr</th>\n",
       "      <th>2014 May</th>\n",
       "      <th>2014 Jun</th>\n",
       "      <th>2014 Jul</th>\n",
       "      <th>2014 Aug</th>\n",
       "      <th>2014 Sep</th>\n",
       "      <th>2014 Oct</th>\n",
       "      <th>...</th>\n",
       "      <th>2018 Sep</th>\n",
       "      <th>2018 Oct</th>\n",
       "      <th>2018 Nov</th>\n",
       "      <th>2018 Dec</th>\n",
       "      <th>2019 Jan</th>\n",
       "      <th>2019 Feb</th>\n",
       "      <th>2019 Mar</th>\n",
       "      <th>2019 Apr</th>\n",
       "      <th>2019 May</th>\n",
       "      <th>2019 Jun</th>\n",
       "    </tr>\n",
       "  </thead>\n",
       "  <tbody>\n",
       "    <tr>\n",
       "      <th>0</th>\n",
       "      <td>3.5</td>\n",
       "      <td>13.1</td>\n",
       "      <td>12.2</td>\n",
       "      <td>5.3</td>\n",
       "      <td>-1.9</td>\n",
       "      <td>0.7</td>\n",
       "      <td>2.6</td>\n",
       "      <td>3.8</td>\n",
       "      <td>-1.2</td>\n",
       "      <td>0.3</td>\n",
       "      <td>...</td>\n",
       "      <td>0.5</td>\n",
       "      <td>5.2</td>\n",
       "      <td>6.8</td>\n",
       "      <td>1.8</td>\n",
       "      <td>1.2</td>\n",
       "      <td>2.9</td>\n",
       "      <td>-4.5</td>\n",
       "      <td>-0.1</td>\n",
       "      <td>-2.0</td>\n",
       "      <td>-6.9</td>\n",
       "    </tr>\n",
       "  </tbody>\n",
       "</table>\n",
       "<p>1 rows × 66 columns</p>\n",
       "</div>"
      ],
      "text/plain": [
       "   2014 Jan  2014 Feb  2014 Mar  2014 Apr  2014 May  2014 Jun  2014 Jul  \\\n",
       "0       3.5      13.1      12.2       5.3      -1.9       0.7       2.6   \n",
       "\n",
       "   2014 Aug  2014 Sep  2014 Oct  ...  2018 Sep  2018 Oct  2018 Nov  2018 Dec  \\\n",
       "0       3.8      -1.2       0.3  ...       0.5       5.2       6.8       1.8   \n",
       "\n",
       "   2019 Jan  2019 Feb  2019 Mar  2019 Apr  2019 May  2019 Jun  \n",
       "0       1.2       2.9      -4.5      -0.1      -2.0      -6.9  \n",
       "\n",
       "[1 rows x 66 columns]"
      ]
     },
     "execution_count": 32,
     "metadata": {},
     "output_type": "execute_result"
    }
   ],
   "source": [
    "industrial_df = pd.read_csv('../datasets/economic-data/industrial.csv')\n",
    "industrial_df"
   ]
  },
  {
   "cell_type": "code",
   "execution_count": 33,
   "metadata": {},
   "outputs": [
    {
     "data": {
      "text/html": [
       "<div>\n",
       "<style scoped>\n",
       "    .dataframe tbody tr th:only-of-type {\n",
       "        vertical-align: middle;\n",
       "    }\n",
       "\n",
       "    .dataframe tbody tr th {\n",
       "        vertical-align: top;\n",
       "    }\n",
       "\n",
       "    .dataframe thead th {\n",
       "        text-align: right;\n",
       "    }\n",
       "</style>\n",
       "<table border=\"1\" class=\"dataframe\">\n",
       "  <thead>\n",
       "    <tr style=\"text-align: right;\">\n",
       "      <th></th>\n",
       "      <th>industrial</th>\n",
       "    </tr>\n",
       "  </thead>\n",
       "  <tbody>\n",
       "    <tr>\n",
       "      <th>2014 Jan</th>\n",
       "      <td>3.5</td>\n",
       "    </tr>\n",
       "    <tr>\n",
       "      <th>2014 Feb</th>\n",
       "      <td>13.1</td>\n",
       "    </tr>\n",
       "    <tr>\n",
       "      <th>2014 Mar</th>\n",
       "      <td>12.2</td>\n",
       "    </tr>\n",
       "    <tr>\n",
       "      <th>2014 Apr</th>\n",
       "      <td>5.3</td>\n",
       "    </tr>\n",
       "    <tr>\n",
       "      <th>2014 May</th>\n",
       "      <td>-1.9</td>\n",
       "    </tr>\n",
       "  </tbody>\n",
       "</table>\n",
       "</div>"
      ],
      "text/plain": [
       "          industrial\n",
       "2014 Jan         3.5\n",
       "2014 Feb        13.1\n",
       "2014 Mar        12.2\n",
       "2014 Apr         5.3\n",
       "2014 May        -1.9"
      ]
     },
     "execution_count": 33,
     "metadata": {},
     "output_type": "execute_result"
    }
   ],
   "source": [
    "industrial_df = industrial_df.T #transpose to make time periods rows\n",
    "industrial_df.rename(columns={0: \"industrial\"}, inplace=True) #name the value column as industrial\n",
    "industrial_df.head()"
   ]
  },
  {
   "cell_type": "code",
   "execution_count": 34,
   "metadata": {},
   "outputs": [
    {
     "name": "stdout",
     "output_type": "stream",
     "text": [
      "period[M]\n"
     ]
    },
    {
     "data": {
      "text/html": [
       "<div>\n",
       "<style scoped>\n",
       "    .dataframe tbody tr th:only-of-type {\n",
       "        vertical-align: middle;\n",
       "    }\n",
       "\n",
       "    .dataframe tbody tr th {\n",
       "        vertical-align: top;\n",
       "    }\n",
       "\n",
       "    .dataframe thead th {\n",
       "        text-align: right;\n",
       "    }\n",
       "</style>\n",
       "<table border=\"1\" class=\"dataframe\">\n",
       "  <thead>\n",
       "    <tr style=\"text-align: right;\">\n",
       "      <th></th>\n",
       "      <th>industrial</th>\n",
       "      <th>date</th>\n",
       "    </tr>\n",
       "  </thead>\n",
       "  <tbody>\n",
       "    <tr>\n",
       "      <th>0</th>\n",
       "      <td>3.5</td>\n",
       "      <td>2014-01</td>\n",
       "    </tr>\n",
       "    <tr>\n",
       "      <th>1</th>\n",
       "      <td>13.1</td>\n",
       "      <td>2014-02</td>\n",
       "    </tr>\n",
       "    <tr>\n",
       "      <th>2</th>\n",
       "      <td>12.2</td>\n",
       "      <td>2014-03</td>\n",
       "    </tr>\n",
       "    <tr>\n",
       "      <th>3</th>\n",
       "      <td>5.3</td>\n",
       "      <td>2014-04</td>\n",
       "    </tr>\n",
       "    <tr>\n",
       "      <th>4</th>\n",
       "      <td>-1.9</td>\n",
       "      <td>2014-05</td>\n",
       "    </tr>\n",
       "  </tbody>\n",
       "</table>\n",
       "</div>"
      ],
      "text/plain": [
       "   industrial     date\n",
       "0         3.5  2014-01\n",
       "1        13.1  2014-02\n",
       "2        12.2  2014-03\n",
       "3         5.3  2014-04\n",
       "4        -1.9  2014-05"
      ]
     },
     "execution_count": 34,
     "metadata": {},
     "output_type": "execute_result"
    }
   ],
   "source": [
    "industrial_df['date'] = industrial_df.index #create new column for date\n",
    "industrial_df['date'] = pd.to_datetime(industrial_df['date']).dt.to_period('m') #convert to date time\n",
    "industrial_df.reset_index(inplace=True) #take date out of index\n",
    "industrial_df.drop('index', axis=1, inplace=True) #when reset_index is done, new columnd called 'index' is formed. drop this\n",
    "print(industrial_df['date'].dtype) #check time conversion is done \n",
    "industrial_df.head()"
   ]
  },
  {
   "cell_type": "markdown",
   "metadata": {},
   "source": [
    "### Merchandise trade (monthly)"
   ]
  },
  {
   "cell_type": "code",
   "execution_count": 35,
   "metadata": {},
   "outputs": [
    {
     "data": {
      "text/html": [
       "<div>\n",
       "<style scoped>\n",
       "    .dataframe tbody tr th:only-of-type {\n",
       "        vertical-align: middle;\n",
       "    }\n",
       "\n",
       "    .dataframe tbody tr th {\n",
       "        vertical-align: top;\n",
       "    }\n",
       "\n",
       "    .dataframe thead th {\n",
       "        text-align: right;\n",
       "    }\n",
       "</style>\n",
       "<table border=\"1\" class=\"dataframe\">\n",
       "  <thead>\n",
       "    <tr style=\"text-align: right;\">\n",
       "      <th></th>\n",
       "      <th>2014 Jan</th>\n",
       "      <th>2014 Feb</th>\n",
       "      <th>2014 Mar</th>\n",
       "      <th>2014 Apr</th>\n",
       "      <th>2014 May</th>\n",
       "      <th>2014 Jun</th>\n",
       "      <th>2014 Jul</th>\n",
       "      <th>2014 Aug</th>\n",
       "      <th>2014 Sep</th>\n",
       "      <th>2014 Oct</th>\n",
       "      <th>...</th>\n",
       "      <th>2018 Oct</th>\n",
       "      <th>2018 Nov</th>\n",
       "      <th>2018 Dec</th>\n",
       "      <th>2019 Jan</th>\n",
       "      <th>2019 Feb</th>\n",
       "      <th>2019 Mar</th>\n",
       "      <th>2019 Apr</th>\n",
       "      <th>2019 May</th>\n",
       "      <th>2019 Jun</th>\n",
       "      <th>2019 Jul</th>\n",
       "    </tr>\n",
       "  </thead>\n",
       "  <tbody>\n",
       "    <tr>\n",
       "      <th>0</th>\n",
       "      <td>4.3</td>\n",
       "      <td>7.5</td>\n",
       "      <td>10.8</td>\n",
       "      <td>1.4</td>\n",
       "      <td>-2.4</td>\n",
       "      <td>-1.0</td>\n",
       "      <td>-6.2</td>\n",
       "      <td>-4.8</td>\n",
       "      <td>-1.1</td>\n",
       "      <td>-7.1</td>\n",
       "      <td>...</td>\n",
       "      <td>18.9</td>\n",
       "      <td>7.4</td>\n",
       "      <td>1.6</td>\n",
       "      <td>4.2</td>\n",
       "      <td>3.3</td>\n",
       "      <td>-0.9</td>\n",
       "      <td>3.2</td>\n",
       "      <td>-2.2</td>\n",
       "      <td>-7.3</td>\n",
       "      <td>-6.0</td>\n",
       "    </tr>\n",
       "  </tbody>\n",
       "</table>\n",
       "<p>1 rows × 67 columns</p>\n",
       "</div>"
      ],
      "text/plain": [
       "   2014 Jan  2014 Feb  2014 Mar  2014 Apr  2014 May  2014 Jun  2014 Jul  \\\n",
       "0       4.3       7.5      10.8       1.4      -2.4      -1.0      -6.2   \n",
       "\n",
       "   2014 Aug  2014 Sep  2014 Oct  ...  2018 Oct  2018 Nov  2018 Dec  2019 Jan  \\\n",
       "0      -4.8      -1.1      -7.1  ...      18.9       7.4       1.6       4.2   \n",
       "\n",
       "   2019 Feb  2019 Mar  2019 Apr  2019 May  2019 Jun  2019 Jul  \n",
       "0       3.3      -0.9       3.2      -2.2      -7.3      -6.0  \n",
       "\n",
       "[1 rows x 67 columns]"
      ]
     },
     "execution_count": 35,
     "metadata": {},
     "output_type": "execute_result"
    }
   ],
   "source": [
    "merch_df = pd.read_csv('../datasets/economic-data/merch.csv')\n",
    "merch_df"
   ]
  },
  {
   "cell_type": "code",
   "execution_count": 36,
   "metadata": {},
   "outputs": [
    {
     "data": {
      "text/html": [
       "<div>\n",
       "<style scoped>\n",
       "    .dataframe tbody tr th:only-of-type {\n",
       "        vertical-align: middle;\n",
       "    }\n",
       "\n",
       "    .dataframe tbody tr th {\n",
       "        vertical-align: top;\n",
       "    }\n",
       "\n",
       "    .dataframe thead th {\n",
       "        text-align: right;\n",
       "    }\n",
       "</style>\n",
       "<table border=\"1\" class=\"dataframe\">\n",
       "  <thead>\n",
       "    <tr style=\"text-align: right;\">\n",
       "      <th></th>\n",
       "      <th>merch</th>\n",
       "    </tr>\n",
       "  </thead>\n",
       "  <tbody>\n",
       "    <tr>\n",
       "      <th>2014 Jan</th>\n",
       "      <td>4.3</td>\n",
       "    </tr>\n",
       "    <tr>\n",
       "      <th>2014 Feb</th>\n",
       "      <td>7.5</td>\n",
       "    </tr>\n",
       "    <tr>\n",
       "      <th>2014 Mar</th>\n",
       "      <td>10.8</td>\n",
       "    </tr>\n",
       "    <tr>\n",
       "      <th>2014 Apr</th>\n",
       "      <td>1.4</td>\n",
       "    </tr>\n",
       "    <tr>\n",
       "      <th>2014 May</th>\n",
       "      <td>-2.4</td>\n",
       "    </tr>\n",
       "  </tbody>\n",
       "</table>\n",
       "</div>"
      ],
      "text/plain": [
       "          merch\n",
       "2014 Jan    4.3\n",
       "2014 Feb    7.5\n",
       "2014 Mar   10.8\n",
       "2014 Apr    1.4\n",
       "2014 May   -2.4"
      ]
     },
     "execution_count": 36,
     "metadata": {},
     "output_type": "execute_result"
    }
   ],
   "source": [
    "merch_df = merch_df.T #transpose to make time periods rows\n",
    "merch_df.rename(columns={0: \"merch\"}, inplace=True) #name the value column as merch\n",
    "merch_df.head()"
   ]
  },
  {
   "cell_type": "code",
   "execution_count": 37,
   "metadata": {},
   "outputs": [
    {
     "name": "stdout",
     "output_type": "stream",
     "text": [
      "period[M]\n"
     ]
    },
    {
     "data": {
      "text/html": [
       "<div>\n",
       "<style scoped>\n",
       "    .dataframe tbody tr th:only-of-type {\n",
       "        vertical-align: middle;\n",
       "    }\n",
       "\n",
       "    .dataframe tbody tr th {\n",
       "        vertical-align: top;\n",
       "    }\n",
       "\n",
       "    .dataframe thead th {\n",
       "        text-align: right;\n",
       "    }\n",
       "</style>\n",
       "<table border=\"1\" class=\"dataframe\">\n",
       "  <thead>\n",
       "    <tr style=\"text-align: right;\">\n",
       "      <th></th>\n",
       "      <th>merch</th>\n",
       "      <th>date</th>\n",
       "    </tr>\n",
       "  </thead>\n",
       "  <tbody>\n",
       "    <tr>\n",
       "      <th>0</th>\n",
       "      <td>4.3</td>\n",
       "      <td>2014-01</td>\n",
       "    </tr>\n",
       "    <tr>\n",
       "      <th>1</th>\n",
       "      <td>7.5</td>\n",
       "      <td>2014-02</td>\n",
       "    </tr>\n",
       "    <tr>\n",
       "      <th>2</th>\n",
       "      <td>10.8</td>\n",
       "      <td>2014-03</td>\n",
       "    </tr>\n",
       "    <tr>\n",
       "      <th>3</th>\n",
       "      <td>1.4</td>\n",
       "      <td>2014-04</td>\n",
       "    </tr>\n",
       "    <tr>\n",
       "      <th>4</th>\n",
       "      <td>-2.4</td>\n",
       "      <td>2014-05</td>\n",
       "    </tr>\n",
       "  </tbody>\n",
       "</table>\n",
       "</div>"
      ],
      "text/plain": [
       "   merch     date\n",
       "0    4.3  2014-01\n",
       "1    7.5  2014-02\n",
       "2   10.8  2014-03\n",
       "3    1.4  2014-04\n",
       "4   -2.4  2014-05"
      ]
     },
     "execution_count": 37,
     "metadata": {},
     "output_type": "execute_result"
    }
   ],
   "source": [
    "merch_df['date'] = merch_df.index #create new column for date\n",
    "merch_df['date'] = pd.to_datetime(merch_df['date']).dt.to_period('m') #convert to date time\n",
    "merch_df.reset_index(inplace=True) #take date out of index\n",
    "merch_df.drop('index', axis=1, inplace=True) #when reset_index is done, new columnd called 'index' is formed. drop this\n",
    "print(merch_df['date'].dtype) #check time conversion is done \n",
    "merch_df.head()"
   ]
  },
  {
   "cell_type": "markdown",
   "metadata": {},
   "source": [
    "### Retail sales (monthly)"
   ]
  },
  {
   "cell_type": "code",
   "execution_count": 38,
   "metadata": {},
   "outputs": [
    {
     "data": {
      "text/html": [
       "<div>\n",
       "<style scoped>\n",
       "    .dataframe tbody tr th:only-of-type {\n",
       "        vertical-align: middle;\n",
       "    }\n",
       "\n",
       "    .dataframe tbody tr th {\n",
       "        vertical-align: top;\n",
       "    }\n",
       "\n",
       "    .dataframe thead th {\n",
       "        text-align: right;\n",
       "    }\n",
       "</style>\n",
       "<table border=\"1\" class=\"dataframe\">\n",
       "  <thead>\n",
       "    <tr style=\"text-align: right;\">\n",
       "      <th></th>\n",
       "      <th>2014 Jan</th>\n",
       "      <th>2014 Feb</th>\n",
       "      <th>2014 Mar</th>\n",
       "      <th>2014 Apr</th>\n",
       "      <th>2014 May</th>\n",
       "      <th>2014 Jun</th>\n",
       "      <th>2014 Jul</th>\n",
       "      <th>2014 Aug</th>\n",
       "      <th>2014 Sep</th>\n",
       "      <th>2014 Oct</th>\n",
       "      <th>...</th>\n",
       "      <th>2018 Sep</th>\n",
       "      <th>2018 Oct</th>\n",
       "      <th>2018 Nov</th>\n",
       "      <th>2018 Dec</th>\n",
       "      <th>2019 Jan</th>\n",
       "      <th>2019 Feb</th>\n",
       "      <th>2019 Mar</th>\n",
       "      <th>2019 Apr</th>\n",
       "      <th>2019 May</th>\n",
       "      <th>2019 Jun</th>\n",
       "    </tr>\n",
       "  </thead>\n",
       "  <tbody>\n",
       "    <tr>\n",
       "      <th>0</th>\n",
       "      <td>-4.5</td>\n",
       "      <td>-1.7</td>\n",
       "      <td>0.9</td>\n",
       "      <td>-6.9</td>\n",
       "      <td>-6.8</td>\n",
       "      <td>-1.3</td>\n",
       "      <td>2.0</td>\n",
       "      <td>3.2</td>\n",
       "      <td>1.9</td>\n",
       "      <td>6.8</td>\n",
       "      <td>...</td>\n",
       "      <td>2.1</td>\n",
       "      <td>0.3</td>\n",
       "      <td>-1.6</td>\n",
       "      <td>-6.0</td>\n",
       "      <td>-1.1</td>\n",
       "      <td>-0.5</td>\n",
       "      <td>-1.0</td>\n",
       "      <td>-1.6</td>\n",
       "      <td>-3.8</td>\n",
       "      <td>-7.4</td>\n",
       "    </tr>\n",
       "  </tbody>\n",
       "</table>\n",
       "<p>1 rows × 66 columns</p>\n",
       "</div>"
      ],
      "text/plain": [
       "   2014 Jan  2014 Feb  2014 Mar  2014 Apr  2014 May  2014 Jun  2014 Jul  \\\n",
       "0      -4.5      -1.7       0.9      -6.9      -6.8      -1.3       2.0   \n",
       "\n",
       "   2014 Aug  2014 Sep  2014 Oct  ...  2018 Sep  2018 Oct  2018 Nov  2018 Dec  \\\n",
       "0       3.2       1.9       6.8  ...       2.1       0.3      -1.6      -6.0   \n",
       "\n",
       "   2019 Jan  2019 Feb  2019 Mar  2019 Apr  2019 May  2019 Jun  \n",
       "0      -1.1      -0.5      -1.0      -1.6      -3.8      -7.4  \n",
       "\n",
       "[1 rows x 66 columns]"
      ]
     },
     "execution_count": 38,
     "metadata": {},
     "output_type": "execute_result"
    }
   ],
   "source": [
    "retail_df = pd.read_csv('../datasets/economic-data/retail.csv')\n",
    "retail_df"
   ]
  },
  {
   "cell_type": "code",
   "execution_count": 39,
   "metadata": {},
   "outputs": [
    {
     "data": {
      "text/html": [
       "<div>\n",
       "<style scoped>\n",
       "    .dataframe tbody tr th:only-of-type {\n",
       "        vertical-align: middle;\n",
       "    }\n",
       "\n",
       "    .dataframe tbody tr th {\n",
       "        vertical-align: top;\n",
       "    }\n",
       "\n",
       "    .dataframe thead th {\n",
       "        text-align: right;\n",
       "    }\n",
       "</style>\n",
       "<table border=\"1\" class=\"dataframe\">\n",
       "  <thead>\n",
       "    <tr style=\"text-align: right;\">\n",
       "      <th></th>\n",
       "      <th>retail</th>\n",
       "    </tr>\n",
       "  </thead>\n",
       "  <tbody>\n",
       "    <tr>\n",
       "      <th>2014 Jan</th>\n",
       "      <td>-4.5</td>\n",
       "    </tr>\n",
       "    <tr>\n",
       "      <th>2014 Feb</th>\n",
       "      <td>-1.7</td>\n",
       "    </tr>\n",
       "    <tr>\n",
       "      <th>2014 Mar</th>\n",
       "      <td>0.9</td>\n",
       "    </tr>\n",
       "    <tr>\n",
       "      <th>2014 Apr</th>\n",
       "      <td>-6.9</td>\n",
       "    </tr>\n",
       "    <tr>\n",
       "      <th>2014 May</th>\n",
       "      <td>-6.8</td>\n",
       "    </tr>\n",
       "  </tbody>\n",
       "</table>\n",
       "</div>"
      ],
      "text/plain": [
       "          retail\n",
       "2014 Jan    -4.5\n",
       "2014 Feb    -1.7\n",
       "2014 Mar     0.9\n",
       "2014 Apr    -6.9\n",
       "2014 May    -6.8"
      ]
     },
     "execution_count": 39,
     "metadata": {},
     "output_type": "execute_result"
    }
   ],
   "source": [
    "retail_df = retail_df.T #transpose to make time periods rows\n",
    "retail_df.rename(columns={0: \"retail\"}, inplace=True) #name the value column as retail\n",
    "retail_df.head()"
   ]
  },
  {
   "cell_type": "code",
   "execution_count": 40,
   "metadata": {},
   "outputs": [
    {
     "name": "stdout",
     "output_type": "stream",
     "text": [
      "period[M]\n"
     ]
    },
    {
     "data": {
      "text/html": [
       "<div>\n",
       "<style scoped>\n",
       "    .dataframe tbody tr th:only-of-type {\n",
       "        vertical-align: middle;\n",
       "    }\n",
       "\n",
       "    .dataframe tbody tr th {\n",
       "        vertical-align: top;\n",
       "    }\n",
       "\n",
       "    .dataframe thead th {\n",
       "        text-align: right;\n",
       "    }\n",
       "</style>\n",
       "<table border=\"1\" class=\"dataframe\">\n",
       "  <thead>\n",
       "    <tr style=\"text-align: right;\">\n",
       "      <th></th>\n",
       "      <th>retail</th>\n",
       "      <th>date</th>\n",
       "    </tr>\n",
       "  </thead>\n",
       "  <tbody>\n",
       "    <tr>\n",
       "      <th>0</th>\n",
       "      <td>-4.5</td>\n",
       "      <td>2014-01</td>\n",
       "    </tr>\n",
       "    <tr>\n",
       "      <th>1</th>\n",
       "      <td>-1.7</td>\n",
       "      <td>2014-02</td>\n",
       "    </tr>\n",
       "    <tr>\n",
       "      <th>2</th>\n",
       "      <td>0.9</td>\n",
       "      <td>2014-03</td>\n",
       "    </tr>\n",
       "    <tr>\n",
       "      <th>3</th>\n",
       "      <td>-6.9</td>\n",
       "      <td>2014-04</td>\n",
       "    </tr>\n",
       "    <tr>\n",
       "      <th>4</th>\n",
       "      <td>-6.8</td>\n",
       "      <td>2014-05</td>\n",
       "    </tr>\n",
       "  </tbody>\n",
       "</table>\n",
       "</div>"
      ],
      "text/plain": [
       "   retail     date\n",
       "0    -4.5  2014-01\n",
       "1    -1.7  2014-02\n",
       "2     0.9  2014-03\n",
       "3    -6.9  2014-04\n",
       "4    -6.8  2014-05"
      ]
     },
     "execution_count": 40,
     "metadata": {},
     "output_type": "execute_result"
    }
   ],
   "source": [
    "retail_df['date'] = retail_df.index #create new column for date\n",
    "retail_df['date'] = pd.to_datetime(retail_df['date']).dt.to_period('m') #convert to date time\n",
    "retail_df.reset_index(inplace=True) #take date out of index\n",
    "retail_df.drop('index', axis=1, inplace=True) #when reset_index is done, new columnd called 'index' is formed. drop this\n",
    "print(retail_df['date'].dtype) #check time conversion is done \n",
    "retail_df.head()"
   ]
  },
  {
   "cell_type": "markdown",
   "metadata": {},
   "source": [
    " ### Merge monthly data"
   ]
  },
  {
   "cell_type": "markdown",
   "metadata": {},
   "source": [
    "Industrial production index, merchandise trade, and retail sales have monthly data. "
   ]
  },
  {
   "cell_type": "code",
   "execution_count": 48,
   "metadata": {},
   "outputs": [
    {
     "data": {
      "text/html": [
       "<div>\n",
       "<style scoped>\n",
       "    .dataframe tbody tr th:only-of-type {\n",
       "        vertical-align: middle;\n",
       "    }\n",
       "\n",
       "    .dataframe tbody tr th {\n",
       "        vertical-align: top;\n",
       "    }\n",
       "\n",
       "    .dataframe thead th {\n",
       "        text-align: right;\n",
       "    }\n",
       "</style>\n",
       "<table border=\"1\" class=\"dataframe\">\n",
       "  <thead>\n",
       "    <tr style=\"text-align: right;\">\n",
       "      <th></th>\n",
       "      <th>date</th>\n",
       "      <th>industrial</th>\n",
       "      <th>merch</th>\n",
       "      <th>retail</th>\n",
       "    </tr>\n",
       "  </thead>\n",
       "  <tbody>\n",
       "    <tr>\n",
       "      <th>0</th>\n",
       "      <td>2014-01</td>\n",
       "      <td>3.5</td>\n",
       "      <td>4.3</td>\n",
       "      <td>-4.5</td>\n",
       "    </tr>\n",
       "    <tr>\n",
       "      <th>1</th>\n",
       "      <td>2014-02</td>\n",
       "      <td>13.1</td>\n",
       "      <td>7.5</td>\n",
       "      <td>-1.7</td>\n",
       "    </tr>\n",
       "    <tr>\n",
       "      <th>2</th>\n",
       "      <td>2014-03</td>\n",
       "      <td>12.2</td>\n",
       "      <td>10.8</td>\n",
       "      <td>0.9</td>\n",
       "    </tr>\n",
       "    <tr>\n",
       "      <th>3</th>\n",
       "      <td>2014-04</td>\n",
       "      <td>5.3</td>\n",
       "      <td>1.4</td>\n",
       "      <td>-6.9</td>\n",
       "    </tr>\n",
       "    <tr>\n",
       "      <th>4</th>\n",
       "      <td>2014-05</td>\n",
       "      <td>-1.9</td>\n",
       "      <td>-2.4</td>\n",
       "      <td>-6.8</td>\n",
       "    </tr>\n",
       "  </tbody>\n",
       "</table>\n",
       "</div>"
      ],
      "text/plain": [
       "      date  industrial  merch  retail\n",
       "0  2014-01         3.5    4.3    -4.5\n",
       "1  2014-02        13.1    7.5    -1.7\n",
       "2  2014-03        12.2   10.8     0.9\n",
       "3  2014-04         5.3    1.4    -6.9\n",
       "4  2014-05        -1.9   -2.4    -6.8"
      ]
     },
     "execution_count": 48,
     "metadata": {},
     "output_type": "execute_result"
    }
   ],
   "source": [
    "month_df = pd.merge(industrial_df, merch_df, on='date').merge(retail_df, on='date')\n",
    "month_df = month_df[['date', 'industrial', 'merch', 'retail']] #rearrange columns so date is first column\n",
    "month_df.head()"
   ]
  },
  {
   "cell_type": "markdown",
   "metadata": {},
   "source": [
    "Save monthly data to `csv`."
   ]
  },
  {
   "cell_type": "code",
   "execution_count": 120,
   "metadata": {},
   "outputs": [],
   "source": [
    "month_df.to_csv('../datasets/economic-data/month.csv')"
   ]
  }
 ],
 "metadata": {
  "kernelspec": {
   "display_name": "Python 3",
   "language": "python",
   "name": "python3"
  },
  "language_info": {
   "codemirror_mode": {
    "name": "ipython",
    "version": 3
   },
   "file_extension": ".py",
   "mimetype": "text/x-python",
   "name": "python",
   "nbconvert_exporter": "python",
   "pygments_lexer": "ipython3",
   "version": "3.7.3"
  }
 },
 "nbformat": 4,
 "nbformat_minor": 2
}
